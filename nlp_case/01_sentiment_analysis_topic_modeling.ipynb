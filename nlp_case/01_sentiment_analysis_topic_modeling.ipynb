{
 "cells": [
  {
   "cell_type": "markdown",
   "metadata": {
    "_cell_guid": "b1076dfc-b9ad-4769-8c92-a6c4dae69d19",
    "_uuid": "8f2839f25d086af736a60e9eeb907d3b93b6e0e5",
    "execution": {
     "iopub.execute_input": "2021-10-08T12:58:11.812902Z",
     "iopub.status.busy": "2021-10-08T12:58:11.812144Z",
     "iopub.status.idle": "2021-10-08T12:58:11.829075Z",
     "shell.execute_reply": "2021-10-08T12:58:11.828148Z",
     "shell.execute_reply.started": "2021-10-08T12:58:11.812847Z"
    },
    "id": "BMum3SC256bz"
   },
   "source": [
    "# Twitter Sentiment Analysis and Topic modeling"
   ]
  },
  {
   "cell_type": "code",
   "execution_count": 1,
   "metadata": {
    "colab": {
     "base_uri": "https://localhost:8080/"
    },
    "id": "82iYSbAn6X1B",
    "outputId": "0aa31e2a-30e1-4a9f-eabb-c8f5e2313976"
   },
   "outputs": [
    {
     "name": "stdout",
     "output_type": "stream",
     "text": [
      "Looking in indexes: https://pypi.org/simple, https://us-python.pkg.dev/colab-wheels/public/simple/\n",
      "Collecting lime\n",
      "  Downloading lime-0.2.0.1.tar.gz (275 kB)\n",
      "\u001b[2K     \u001b[90m━━━━━━━━━━━━━━━━━━━━━━━━━━━━━━━━━━━━━━━\u001b[0m \u001b[32m275.7/275.7 KB\u001b[0m \u001b[31m6.2 MB/s\u001b[0m eta \u001b[36m0:00:00\u001b[0m\n",
      "\u001b[?25h  Preparing metadata (setup.py) ... \u001b[?25l\u001b[?25hdone\n",
      "Requirement already satisfied: matplotlib in /usr/local/lib/python3.9/dist-packages (from lime) (3.5.3)\n",
      "Requirement already satisfied: numpy in /usr/local/lib/python3.9/dist-packages (from lime) (1.22.4)\n",
      "Requirement already satisfied: scipy in /usr/local/lib/python3.9/dist-packages (from lime) (1.10.1)\n",
      "Requirement already satisfied: tqdm in /usr/local/lib/python3.9/dist-packages (from lime) (4.65.0)\n",
      "Requirement already satisfied: scikit-learn>=0.18 in /usr/local/lib/python3.9/dist-packages (from lime) (1.2.2)\n",
      "Requirement already satisfied: scikit-image>=0.12 in /usr/local/lib/python3.9/dist-packages (from lime) (0.19.3)\n",
      "Requirement already satisfied: imageio>=2.4.1 in /usr/local/lib/python3.9/dist-packages (from scikit-image>=0.12->lime) (2.9.0)\n",
      "Requirement already satisfied: PyWavelets>=1.1.1 in /usr/local/lib/python3.9/dist-packages (from scikit-image>=0.12->lime) (1.4.1)\n",
      "Requirement already satisfied: pillow!=7.1.0,!=7.1.1,!=8.3.0,>=6.1.0 in /usr/local/lib/python3.9/dist-packages (from scikit-image>=0.12->lime) (8.4.0)\n",
      "Requirement already satisfied: tifffile>=2019.7.26 in /usr/local/lib/python3.9/dist-packages (from scikit-image>=0.12->lime) (2023.2.28)\n",
      "Requirement already satisfied: packaging>=20.0 in /usr/local/lib/python3.9/dist-packages (from scikit-image>=0.12->lime) (23.0)\n",
      "Requirement already satisfied: networkx>=2.2 in /usr/local/lib/python3.9/dist-packages (from scikit-image>=0.12->lime) (3.0)\n",
      "Requirement already satisfied: joblib>=1.1.1 in /usr/local/lib/python3.9/dist-packages (from scikit-learn>=0.18->lime) (1.1.1)\n",
      "Requirement already satisfied: threadpoolctl>=2.0.0 in /usr/local/lib/python3.9/dist-packages (from scikit-learn>=0.18->lime) (3.1.0)\n",
      "Requirement already satisfied: cycler>=0.10 in /usr/local/lib/python3.9/dist-packages (from matplotlib->lime) (0.11.0)\n",
      "Requirement already satisfied: fonttools>=4.22.0 in /usr/local/lib/python3.9/dist-packages (from matplotlib->lime) (4.39.0)\n",
      "Requirement already satisfied: kiwisolver>=1.0.1 in /usr/local/lib/python3.9/dist-packages (from matplotlib->lime) (1.4.4)\n",
      "Requirement already satisfied: pyparsing>=2.2.1 in /usr/local/lib/python3.9/dist-packages (from matplotlib->lime) (3.0.9)\n",
      "Requirement already satisfied: python-dateutil>=2.7 in /usr/local/lib/python3.9/dist-packages (from matplotlib->lime) (2.8.2)\n",
      "Requirement already satisfied: six>=1.5 in /usr/local/lib/python3.9/dist-packages (from python-dateutil>=2.7->matplotlib->lime) (1.15.0)\n",
      "Building wheels for collected packages: lime\n",
      "  Building wheel for lime (setup.py) ... \u001b[?25l\u001b[?25hdone\n",
      "  Created wheel for lime: filename=lime-0.2.0.1-py3-none-any.whl size=283858 sha256=ec9c9ee7db1cc2668356e2b1fc26cbb94f6b1bf9b9568406f2b21481ec8ff3ef\n",
      "  Stored in directory: /root/.cache/pip/wheels/ed/d7/c9/5a0130d06d6310bc6cbe55220e6e72dcb8c4eff9a478717066\n",
      "Successfully built lime\n",
      "Installing collected packages: lime\n",
      "Successfully installed lime-0.2.0.1\n"
     ]
    }
   ],
   "source": [
    "#!pip install lime"
   ]
  },
  {
   "cell_type": "code",
   "execution_count": 2,
   "metadata": {
    "colab": {
     "base_uri": "https://localhost:8080/"
    },
    "execution": {
     "iopub.execute_input": "2022-01-06T07:19:23.689094Z",
     "iopub.status.busy": "2022-01-06T07:19:23.688808Z",
     "iopub.status.idle": "2022-01-06T07:19:29.655528Z",
     "shell.execute_reply": "2022-01-06T07:19:29.654784Z",
     "shell.execute_reply.started": "2022-01-06T07:19:23.689021Z"
    },
    "id": "h9c0aSuT56cG",
    "outputId": "9c6e0c65-dec7-4d6d-e9e8-5c71593bcb02"
   },
   "outputs": [
    {
     "name": "stderr",
     "output_type": "stream",
     "text": [
      "[nltk_data] Downloading package punkt to /root/nltk_data...\n",
      "[nltk_data]   Unzipping tokenizers/punkt.zip.\n",
      "[nltk_data] Downloading package stopwords to /root/nltk_data...\n",
      "[nltk_data]   Unzipping corpora/stopwords.zip.\n"
     ]
    }
   ],
   "source": [
    "# importing libraries\n",
    "\n",
    "import pandas as pd\n",
    "import seaborn as sns\n",
    "sns.color_palette(\"viridis\", as_cmap=True)\n",
    "import numpy as np\n",
    "\n",
    "import re, nltk\n",
    "import string\n",
    "from nltk.corpus import stopwords\n",
    "nltk.download('punkt')\n",
    "nltk.download('stopwords')\n",
    "\n",
    "import matplotlib.pyplot as plt\n",
    "#plt.style.use('fivethirtyeight')\n",
    "#plt.style.use('dark_background')\n",
    "\n",
    "from sklearn import model_selection, naive_bayes, svm\n",
    "from sklearn.model_selection import train_test_split, StratifiedKFold, cross_val_score, GridSearchCV\n",
    "from sklearn.metrics import classification_report\n",
    "from sklearn.metrics import roc_auc_score\n",
    "from sklearn.metrics import recall_score\n",
    "from sklearn.metrics import f1_score\n",
    "from sklearn.metrics import confusion_matrix, accuracy_score\n",
    "from sklearn.metrics import auc\n",
    "from sklearn.metrics import roc_curve\n",
    "from sklearn.feature_extraction.text import CountVectorizer, TfidfVectorizer\n",
    "\n",
    "from sklearn.naive_bayes import MultinomialNB, GaussianNB\n",
    "from sklearn.ensemble import AdaBoostClassifier\n",
    "from sklearn.ensemble import BaggingClassifier\n",
    "from sklearn.ensemble import RandomForestClassifier"
   ]
  },
  {
   "cell_type": "code",
   "execution_count": 3,
   "metadata": {
    "colab": {
     "base_uri": "https://localhost:8080/",
     "height": 913
    },
    "execution": {
     "iopub.execute_input": "2022-01-06T07:19:29.658972Z",
     "iopub.status.busy": "2022-01-06T07:19:29.658775Z",
     "iopub.status.idle": "2022-01-06T07:19:29.800728Z",
     "shell.execute_reply": "2022-01-06T07:19:29.800061Z",
     "shell.execute_reply.started": "2022-01-06T07:19:29.658949Z"
    },
    "id": "Q-59D0Am56cT",
    "outputId": "d94702a4-b4b9-4444-bfe9-e5c4e0d6136a"
   },
   "outputs": [
    {
     "name": "stdout",
     "output_type": "stream",
     "text": [
      "(14640, 15)\n"
     ]
    },
    {
     "data": {
      "text/html": [
       "\n",
       "  <div id=\"df-57e634d4-c23e-4dd6-811f-f379067817d7\">\n",
       "    <div class=\"colab-df-container\">\n",
       "      <div>\n",
       "<style scoped>\n",
       "    .dataframe tbody tr th:only-of-type {\n",
       "        vertical-align: middle;\n",
       "    }\n",
       "\n",
       "    .dataframe tbody tr th {\n",
       "        vertical-align: top;\n",
       "    }\n",
       "\n",
       "    .dataframe thead th {\n",
       "        text-align: right;\n",
       "    }\n",
       "</style>\n",
       "<table border=\"1\" class=\"dataframe\">\n",
       "  <thead>\n",
       "    <tr style=\"text-align: right;\">\n",
       "      <th></th>\n",
       "      <th>tweet_id</th>\n",
       "      <th>airline_sentiment</th>\n",
       "      <th>airline_sentiment_confidence</th>\n",
       "      <th>negativereason</th>\n",
       "      <th>negativereason_confidence</th>\n",
       "      <th>airline</th>\n",
       "      <th>airline_sentiment_gold</th>\n",
       "      <th>name</th>\n",
       "      <th>negativereason_gold</th>\n",
       "      <th>retweet_count</th>\n",
       "      <th>text</th>\n",
       "      <th>tweet_coord</th>\n",
       "      <th>tweet_created</th>\n",
       "      <th>tweet_location</th>\n",
       "      <th>user_timezone</th>\n",
       "    </tr>\n",
       "  </thead>\n",
       "  <tbody>\n",
       "    <tr>\n",
       "      <th>1489</th>\n",
       "      <td>569700243383537664</td>\n",
       "      <td>positive</td>\n",
       "      <td>1.0000</td>\n",
       "      <td>NaN</td>\n",
       "      <td>NaN</td>\n",
       "      <td>United</td>\n",
       "      <td>NaN</td>\n",
       "      <td>geekydewd</td>\n",
       "      <td>NaN</td>\n",
       "      <td>0</td>\n",
       "      <td>@united Thanks! LOL! #UA6259 will wait for us....</td>\n",
       "      <td>NaN</td>\n",
       "      <td>2015-02-22 19:28:17 -0800</td>\n",
       "      <td>CO Springs, Occupied Colorado</td>\n",
       "      <td>Mountain Time (US &amp; Canada)</td>\n",
       "    </tr>\n",
       "    <tr>\n",
       "      <th>13325</th>\n",
       "      <td>569890109803220993</td>\n",
       "      <td>negative</td>\n",
       "      <td>0.6325</td>\n",
       "      <td>Flight Booking Problems</td>\n",
       "      <td>0.3405</td>\n",
       "      <td>American</td>\n",
       "      <td>NaN</td>\n",
       "      <td>jweslo</td>\n",
       "      <td>NaN</td>\n",
       "      <td>0</td>\n",
       "      <td>@AmericanAir the app doesn't allow Canadian ad...</td>\n",
       "      <td>NaN</td>\n",
       "      <td>2015-02-23 08:02:44 -0800</td>\n",
       "      <td>Brantford</td>\n",
       "      <td>NaN</td>\n",
       "    </tr>\n",
       "    <tr>\n",
       "      <th>10744</th>\n",
       "      <td>568913418092224512</td>\n",
       "      <td>negative</td>\n",
       "      <td>1.0000</td>\n",
       "      <td>Customer Service Issue</td>\n",
       "      <td>1.0000</td>\n",
       "      <td>US Airways</td>\n",
       "      <td>NaN</td>\n",
       "      <td>chrisseifert83</td>\n",
       "      <td>NaN</td>\n",
       "      <td>0</td>\n",
       "      <td>@USAirways not happening #worstairlineever als...</td>\n",
       "      <td>NaN</td>\n",
       "      <td>2015-02-20 15:21:43 -0800</td>\n",
       "      <td>Stamford, Ct</td>\n",
       "      <td>Eastern Time (US &amp; Canada)</td>\n",
       "    </tr>\n",
       "    <tr>\n",
       "      <th>13508</th>\n",
       "      <td>569845438494457856</td>\n",
       "      <td>negative</td>\n",
       "      <td>1.0000</td>\n",
       "      <td>Cancelled Flight</td>\n",
       "      <td>1.0000</td>\n",
       "      <td>American</td>\n",
       "      <td>NaN</td>\n",
       "      <td>HaileyUrban</td>\n",
       "      <td>NaN</td>\n",
       "      <td>0</td>\n",
       "      <td>@AmericanAir from a service rep but that hasn'...</td>\n",
       "      <td>NaN</td>\n",
       "      <td>2015-02-23 05:05:14 -0800</td>\n",
       "      <td>NaN</td>\n",
       "      <td>Alaska</td>\n",
       "    </tr>\n",
       "    <tr>\n",
       "      <th>9707</th>\n",
       "      <td>569704066760232960</td>\n",
       "      <td>negative</td>\n",
       "      <td>1.0000</td>\n",
       "      <td>Can't Tell</td>\n",
       "      <td>0.6527</td>\n",
       "      <td>US Airways</td>\n",
       "      <td>NaN</td>\n",
       "      <td>biscuittmfs</td>\n",
       "      <td>NaN</td>\n",
       "      <td>0</td>\n",
       "      <td>@USAirways @AmericanAir you should partner w/ ...</td>\n",
       "      <td>NaN</td>\n",
       "      <td>2015-02-22 19:43:28 -0800</td>\n",
       "      <td>NY - SoFlo - The Tardis</td>\n",
       "      <td>Eastern Time (US &amp; Canada)</td>\n",
       "    </tr>\n",
       "    <tr>\n",
       "      <th>6481</th>\n",
       "      <td>567823967555178496</td>\n",
       "      <td>neutral</td>\n",
       "      <td>0.6667</td>\n",
       "      <td>NaN</td>\n",
       "      <td>0.0000</td>\n",
       "      <td>Southwest</td>\n",
       "      <td>NaN</td>\n",
       "      <td>thnk2x</td>\n",
       "      <td>NaN</td>\n",
       "      <td>0</td>\n",
       "      <td>@SouthwestAir I have been in contact and know ...</td>\n",
       "      <td>NaN</td>\n",
       "      <td>2015-02-17 15:12:38 -0800</td>\n",
       "      <td>Do as you wish, with integrity</td>\n",
       "      <td>Pacific Time (US &amp; Canada)</td>\n",
       "    </tr>\n",
       "    <tr>\n",
       "      <th>10044</th>\n",
       "      <td>569558377178603520</td>\n",
       "      <td>negative</td>\n",
       "      <td>1.0000</td>\n",
       "      <td>Cancelled Flight</td>\n",
       "      <td>1.0000</td>\n",
       "      <td>US Airways</td>\n",
       "      <td>NaN</td>\n",
       "      <td>smw04</td>\n",
       "      <td>NaN</td>\n",
       "      <td>0</td>\n",
       "      <td>@USAirways @corybronze  INCONVENIENCE? Are you...</td>\n",
       "      <td>NaN</td>\n",
       "      <td>2015-02-22 10:04:33 -0800</td>\n",
       "      <td>NaN</td>\n",
       "      <td>Atlantic Time (Canada)</td>\n",
       "    </tr>\n",
       "    <tr>\n",
       "      <th>12000</th>\n",
       "      <td>570272172679282688</td>\n",
       "      <td>negative</td>\n",
       "      <td>1.0000</td>\n",
       "      <td>Cancelled Flight</td>\n",
       "      <td>0.6556</td>\n",
       "      <td>American</td>\n",
       "      <td>NaN</td>\n",
       "      <td>mmanny</td>\n",
       "      <td>NaN</td>\n",
       "      <td>0</td>\n",
       "      <td>@AmericanAir You Cancelled Flight my flight an...</td>\n",
       "      <td>NaN</td>\n",
       "      <td>2015-02-24 09:20:55 -0800</td>\n",
       "      <td>NYC</td>\n",
       "      <td>Eastern Time (US &amp; Canada)</td>\n",
       "    </tr>\n",
       "    <tr>\n",
       "      <th>2839</th>\n",
       "      <td>568874496507174912</td>\n",
       "      <td>negative</td>\n",
       "      <td>1.0000</td>\n",
       "      <td>Cancelled Flight</td>\n",
       "      <td>1.0000</td>\n",
       "      <td>United</td>\n",
       "      <td>NaN</td>\n",
       "      <td>bugstory</td>\n",
       "      <td>NaN</td>\n",
       "      <td>0</td>\n",
       "      <td>@united yes it is partly used, the del-ewr is ...</td>\n",
       "      <td>NaN</td>\n",
       "      <td>2015-02-20 12:47:03 -0800</td>\n",
       "      <td>Baltimore, MD</td>\n",
       "      <td>Eastern Time (US &amp; Canada)</td>\n",
       "    </tr>\n",
       "    <tr>\n",
       "      <th>5619</th>\n",
       "      <td>568856846523502594</td>\n",
       "      <td>negative</td>\n",
       "      <td>1.0000</td>\n",
       "      <td>Late Flight</td>\n",
       "      <td>1.0000</td>\n",
       "      <td>Southwest</td>\n",
       "      <td>NaN</td>\n",
       "      <td>KierstinKrul</td>\n",
       "      <td>NaN</td>\n",
       "      <td>0</td>\n",
       "      <td>@SouthwestAir 4 hour delay in ATL due to \"air ...</td>\n",
       "      <td>NaN</td>\n",
       "      <td>2015-02-20 11:36:55 -0800</td>\n",
       "      <td>NaN</td>\n",
       "      <td>Quito</td>\n",
       "    </tr>\n",
       "  </tbody>\n",
       "</table>\n",
       "</div>\n",
       "      <button class=\"colab-df-convert\" onclick=\"convertToInteractive('df-57e634d4-c23e-4dd6-811f-f379067817d7')\"\n",
       "              title=\"Convert this dataframe to an interactive table.\"\n",
       "              style=\"display:none;\">\n",
       "        \n",
       "  <svg xmlns=\"http://www.w3.org/2000/svg\" height=\"24px\"viewBox=\"0 0 24 24\"\n",
       "       width=\"24px\">\n",
       "    <path d=\"M0 0h24v24H0V0z\" fill=\"none\"/>\n",
       "    <path d=\"M18.56 5.44l.94 2.06.94-2.06 2.06-.94-2.06-.94-.94-2.06-.94 2.06-2.06.94zm-11 1L8.5 8.5l.94-2.06 2.06-.94-2.06-.94L8.5 2.5l-.94 2.06-2.06.94zm10 10l.94 2.06.94-2.06 2.06-.94-2.06-.94-.94-2.06-.94 2.06-2.06.94z\"/><path d=\"M17.41 7.96l-1.37-1.37c-.4-.4-.92-.59-1.43-.59-.52 0-1.04.2-1.43.59L10.3 9.45l-7.72 7.72c-.78.78-.78 2.05 0 2.83L4 21.41c.39.39.9.59 1.41.59.51 0 1.02-.2 1.41-.59l7.78-7.78 2.81-2.81c.8-.78.8-2.07 0-2.86zM5.41 20L4 18.59l7.72-7.72 1.47 1.35L5.41 20z\"/>\n",
       "  </svg>\n",
       "      </button>\n",
       "      \n",
       "  <style>\n",
       "    .colab-df-container {\n",
       "      display:flex;\n",
       "      flex-wrap:wrap;\n",
       "      gap: 12px;\n",
       "    }\n",
       "\n",
       "    .colab-df-convert {\n",
       "      background-color: #E8F0FE;\n",
       "      border: none;\n",
       "      border-radius: 50%;\n",
       "      cursor: pointer;\n",
       "      display: none;\n",
       "      fill: #1967D2;\n",
       "      height: 32px;\n",
       "      padding: 0 0 0 0;\n",
       "      width: 32px;\n",
       "    }\n",
       "\n",
       "    .colab-df-convert:hover {\n",
       "      background-color: #E2EBFA;\n",
       "      box-shadow: 0px 1px 2px rgba(60, 64, 67, 0.3), 0px 1px 3px 1px rgba(60, 64, 67, 0.15);\n",
       "      fill: #174EA6;\n",
       "    }\n",
       "\n",
       "    [theme=dark] .colab-df-convert {\n",
       "      background-color: #3B4455;\n",
       "      fill: #D2E3FC;\n",
       "    }\n",
       "\n",
       "    [theme=dark] .colab-df-convert:hover {\n",
       "      background-color: #434B5C;\n",
       "      box-shadow: 0px 1px 3px 1px rgba(0, 0, 0, 0.15);\n",
       "      filter: drop-shadow(0px 1px 2px rgba(0, 0, 0, 0.3));\n",
       "      fill: #FFFFFF;\n",
       "    }\n",
       "  </style>\n",
       "\n",
       "      <script>\n",
       "        const buttonEl =\n",
       "          document.querySelector('#df-57e634d4-c23e-4dd6-811f-f379067817d7 button.colab-df-convert');\n",
       "        buttonEl.style.display =\n",
       "          google.colab.kernel.accessAllowed ? 'block' : 'none';\n",
       "\n",
       "        async function convertToInteractive(key) {\n",
       "          const element = document.querySelector('#df-57e634d4-c23e-4dd6-811f-f379067817d7');\n",
       "          const dataTable =\n",
       "            await google.colab.kernel.invokeFunction('convertToInteractive',\n",
       "                                                     [key], {});\n",
       "          if (!dataTable) return;\n",
       "\n",
       "          const docLinkHtml = 'Like what you see? Visit the ' +\n",
       "            '<a target=\"_blank\" href=https://colab.research.google.com/notebooks/data_table.ipynb>data table notebook</a>'\n",
       "            + ' to learn more about interactive tables.';\n",
       "          element.innerHTML = '';\n",
       "          dataTable['output_type'] = 'display_data';\n",
       "          await google.colab.output.renderOutput(dataTable, element);\n",
       "          const docLink = document.createElement('div');\n",
       "          docLink.innerHTML = docLinkHtml;\n",
       "          element.appendChild(docLink);\n",
       "        }\n",
       "      </script>\n",
       "    </div>\n",
       "  </div>\n",
       "  "
      ],
      "text/plain": [
       "                 tweet_id airline_sentiment  airline_sentiment_confidence  \\\n",
       "1489   569700243383537664          positive                        1.0000   \n",
       "13325  569890109803220993          negative                        0.6325   \n",
       "10744  568913418092224512          negative                        1.0000   \n",
       "13508  569845438494457856          negative                        1.0000   \n",
       "9707   569704066760232960          negative                        1.0000   \n",
       "6481   567823967555178496           neutral                        0.6667   \n",
       "10044  569558377178603520          negative                        1.0000   \n",
       "12000  570272172679282688          negative                        1.0000   \n",
       "2839   568874496507174912          negative                        1.0000   \n",
       "5619   568856846523502594          negative                        1.0000   \n",
       "\n",
       "                negativereason  negativereason_confidence     airline  \\\n",
       "1489                       NaN                        NaN      United   \n",
       "13325  Flight Booking Problems                     0.3405    American   \n",
       "10744   Customer Service Issue                     1.0000  US Airways   \n",
       "13508         Cancelled Flight                     1.0000    American   \n",
       "9707                Can't Tell                     0.6527  US Airways   \n",
       "6481                       NaN                     0.0000   Southwest   \n",
       "10044         Cancelled Flight                     1.0000  US Airways   \n",
       "12000         Cancelled Flight                     0.6556    American   \n",
       "2839          Cancelled Flight                     1.0000      United   \n",
       "5619               Late Flight                     1.0000   Southwest   \n",
       "\n",
       "      airline_sentiment_gold            name negativereason_gold  \\\n",
       "1489                     NaN       geekydewd                 NaN   \n",
       "13325                    NaN          jweslo                 NaN   \n",
       "10744                    NaN  chrisseifert83                 NaN   \n",
       "13508                    NaN     HaileyUrban                 NaN   \n",
       "9707                     NaN     biscuittmfs                 NaN   \n",
       "6481                     NaN          thnk2x                 NaN   \n",
       "10044                    NaN           smw04                 NaN   \n",
       "12000                    NaN          mmanny                 NaN   \n",
       "2839                     NaN        bugstory                 NaN   \n",
       "5619                     NaN    KierstinKrul                 NaN   \n",
       "\n",
       "       retweet_count                                               text  \\\n",
       "1489               0  @united Thanks! LOL! #UA6259 will wait for us....   \n",
       "13325              0  @AmericanAir the app doesn't allow Canadian ad...   \n",
       "10744              0  @USAirways not happening #worstairlineever als...   \n",
       "13508              0  @AmericanAir from a service rep but that hasn'...   \n",
       "9707               0  @USAirways @AmericanAir you should partner w/ ...   \n",
       "6481               0  @SouthwestAir I have been in contact and know ...   \n",
       "10044              0  @USAirways @corybronze  INCONVENIENCE? Are you...   \n",
       "12000              0  @AmericanAir You Cancelled Flight my flight an...   \n",
       "2839               0  @united yes it is partly used, the del-ewr is ...   \n",
       "5619               0  @SouthwestAir 4 hour delay in ATL due to \"air ...   \n",
       "\n",
       "      tweet_coord              tweet_created                  tweet_location  \\\n",
       "1489          NaN  2015-02-22 19:28:17 -0800   CO Springs, Occupied Colorado   \n",
       "13325         NaN  2015-02-23 08:02:44 -0800                       Brantford   \n",
       "10744         NaN  2015-02-20 15:21:43 -0800                    Stamford, Ct   \n",
       "13508         NaN  2015-02-23 05:05:14 -0800                             NaN   \n",
       "9707          NaN  2015-02-22 19:43:28 -0800         NY - SoFlo - The Tardis   \n",
       "6481          NaN  2015-02-17 15:12:38 -0800  Do as you wish, with integrity   \n",
       "10044         NaN  2015-02-22 10:04:33 -0800                             NaN   \n",
       "12000         NaN  2015-02-24 09:20:55 -0800                             NYC   \n",
       "2839          NaN  2015-02-20 12:47:03 -0800                   Baltimore, MD   \n",
       "5619          NaN  2015-02-20 11:36:55 -0800                             NaN   \n",
       "\n",
       "                     user_timezone  \n",
       "1489   Mountain Time (US & Canada)  \n",
       "13325                          NaN  \n",
       "10744   Eastern Time (US & Canada)  \n",
       "13508                       Alaska  \n",
       "9707    Eastern Time (US & Canada)  \n",
       "6481    Pacific Time (US & Canada)  \n",
       "10044       Atlantic Time (Canada)  \n",
       "12000   Eastern Time (US & Canada)  \n",
       "2839    Eastern Time (US & Canada)  \n",
       "5619                         Quito  "
      ]
     },
     "execution_count": 3,
     "metadata": {},
     "output_type": "execute_result"
    }
   ],
   "source": [
    "df = pd.read_csv('https://raw.githubusercontent.com/mauriciosotogomez/BABD2022/main/Lab_11_NLP_Case/Tweets.csv')\n",
    "print(df.shape)\n",
    "df.sample(10)"
   ]
  },
  {
   "cell_type": "code",
   "execution_count": 4,
   "metadata": {
    "colab": {
     "base_uri": "https://localhost:8080/"
    },
    "id": "z8g1GMz1eEo9",
    "outputId": "46300ad1-7fcc-43ae-85f8-13bb10af1542"
   },
   "outputs": [
    {
     "name": "stdout",
     "output_type": "stream",
     "text": [
      "@VirginAmerica plz help me win my bid upgrade for my flight 2/27 LAX---&gt;SEA!!!  🍷👍💺✈️\n",
      "\n",
      "@VirginAmerica when are you putting some great deals from PDX to LAS or from LAS to PDX show me your love! http://t.co/enIQg0buzj\n"
     ]
    }
   ],
   "source": [
    "print(df['text'][42])\n",
    "print()\n",
    "print(df['text'][222])"
   ]
  },
  {
   "cell_type": "code",
   "execution_count": 5,
   "metadata": {
    "colab": {
     "base_uri": "https://localhost:8080/"
    },
    "id": "3bhjC0uskA_0",
    "outputId": "3eaa062e-9b03-475a-be48-4eaf1dffd505"
   },
   "outputs": [
    {
     "data": {
      "text/plain": [
       "Index(['tweet_id', 'airline_sentiment', 'airline_sentiment_confidence',\n",
       "       'negativereason', 'negativereason_confidence', 'airline',\n",
       "       'airline_sentiment_gold', 'name', 'negativereason_gold',\n",
       "       'retweet_count', 'text', 'tweet_coord', 'tweet_created',\n",
       "       'tweet_location', 'user_timezone'],\n",
       "      dtype='object')"
      ]
     },
     "execution_count": 5,
     "metadata": {},
     "output_type": "execute_result"
    }
   ],
   "source": [
    "df.columns"
   ]
  },
  {
   "cell_type": "code",
   "execution_count": 6,
   "metadata": {
    "colab": {
     "base_uri": "https://localhost:8080/"
    },
    "execution": {
     "iopub.execute_input": "2022-01-06T07:19:29.802425Z",
     "iopub.status.busy": "2022-01-06T07:19:29.801793Z",
     "iopub.status.idle": "2022-01-06T07:19:29.812622Z",
     "shell.execute_reply": "2022-01-06T07:19:29.811929Z",
     "shell.execute_reply.started": "2022-01-06T07:19:29.802388Z"
    },
    "id": "iogwqyC256ca",
    "outputId": "767cbe89-b23a-4d33-a2e8-e4fc2aeb241b"
   },
   "outputs": [
    {
     "data": {
      "text/plain": [
       "array(['neutral', 'positive', 'negative'], dtype=object)"
      ]
     },
     "execution_count": 6,
     "metadata": {},
     "output_type": "execute_result"
    }
   ],
   "source": [
    "# Unique values of sentiment\n",
    "df['airline_sentiment'].unique()"
   ]
  },
  {
   "cell_type": "code",
   "execution_count": 7,
   "metadata": {
    "colab": {
     "base_uri": "https://localhost:8080/"
    },
    "id": "FYe2xa-Fu8Xa",
    "outputId": "2fc279d9-bdf6-44a5-acf8-f5c4920a4277"
   },
   "outputs": [
    {
     "data": {
      "text/plain": [
       "(14640, 15)"
      ]
     },
     "execution_count": 7,
     "metadata": {},
     "output_type": "execute_result"
    }
   ],
   "source": [
    "df.shape"
   ]
  },
  {
   "cell_type": "code",
   "execution_count": 8,
   "metadata": {
    "colab": {
     "base_uri": "https://localhost:8080/",
     "height": 280
    },
    "execution": {
     "iopub.execute_input": "2022-01-06T07:19:29.816619Z",
     "iopub.status.busy": "2022-01-06T07:19:29.815972Z",
     "iopub.status.idle": "2022-01-06T07:19:30.020444Z",
     "shell.execute_reply": "2022-01-06T07:19:30.019659Z",
     "shell.execute_reply.started": "2022-01-06T07:19:29.816591Z"
    },
    "id": "GvhOjRa056cf",
    "outputId": "94247667-9aa5-42a5-9f0a-e8c84b22075a"
   },
   "outputs": [
    {
     "data": {
      "image/png": "[encoded data removed]",
      "text/plain": [
       "<Figure size 432x288 with 1 Axes>"
      ]
     },
     "metadata": {
      "needs_background": "light"
     },
     "output_type": "display_data"
    }
   ],
   "source": [
    "# Unique values of sentiment plot\n",
    "\n",
    "ax = sns.countplot(x=\"airline_sentiment\", data=df)"
   ]
  },
  {
   "cell_type": "code",
   "execution_count": 9,
   "metadata": {
    "colab": {
     "base_uri": "https://localhost:8080/",
     "height": 608
    },
    "execution": {
     "iopub.execute_input": "2022-01-06T07:19:30.021988Z",
     "iopub.status.busy": "2022-01-06T07:19:30.021605Z",
     "iopub.status.idle": "2022-01-06T07:19:30.256143Z",
     "shell.execute_reply": "2022-01-06T07:19:30.255496Z",
     "shell.execute_reply.started": "2022-01-06T07:19:30.021954Z"
    },
    "id": "NMRI7oLV56ck",
    "outputId": "94447c59-c12f-4cbf-92b9-bf07254d67db"
   },
   "outputs": [
    {
     "data": {
      "image/png": "[encoded data removed]",
      "text/plain": [
       "<Figure size 720x720 with 1 Axes>"
      ]
     },
     "metadata": {
      "needs_background": "light"
     },
     "output_type": "display_data"
    }
   ],
   "source": [
    "# Unique values of airline\n",
    "\n",
    "plt.figure(figsize=(10,10))\n",
    "ax = sns.countplot(x=\"airline\", data=df)"
   ]
  },
  {
   "cell_type": "markdown",
   "metadata": {
    "id": "5Bv5bk5r56cs"
   },
   "source": [
    "### Text cleaning"
   ]
  },
  {
   "cell_type": "code",
   "execution_count": 10,
   "metadata": {
    "colab": {
     "base_uri": "https://localhost:8080/"
    },
    "id": "z9ECL7nOb1d_",
    "outputId": "70008370-ebfb-48c5-e697-1fef43ed491b"
   },
   "outputs": [
    {
     "name": "stderr",
     "output_type": "stream",
     "text": [
      "[nltk_data] Downloading package averaged_perceptron_tagger to\n",
      "[nltk_data]     /root/nltk_data...\n",
      "[nltk_data]   Unzipping taggers/averaged_perceptron_tagger.zip.\n",
      "[nltk_data] Downloading package wordnet to /root/nltk_data...\n"
     ]
    }
   ],
   "source": [
    "stop_words = stopwords.words('english')\n",
    "stop_words.extend(['get','hour','http','co'])\n",
    "\n",
    "def clean_text(text):\n",
    "    text = re.sub(\"&[a-z]*;\", \" \",text)                                           # html tags such as &gt; \n",
    "    text = re.sub(\"[^a-zA-Z]\", \" \",text)                                          # keep only letters\n",
    "    text = text.lower()                                                           # lower case                                              \n",
    "      # Remove stop_word\n",
    "    words = word_tokenize(text)\n",
    "    new_text = \"\"\n",
    "    for i,w in enumerate(words):\n",
    "        if i == 0:                                                                  # first token is always airline name\n",
    "            continue\n",
    "        if w == 'flightled':\n",
    "            w = 'flight'\n",
    "        if w not in stop_words and len(w) > 1:\n",
    "            new_text = new_text + \" \" + w\n",
    "    return new_text\n",
    "  #return ' '.join([word for word in text.split() if word.lower() not in stopwords.words('english')])                             \n",
    "\n",
    "from nltk.stem import WordNetLemmatizer\n",
    "wnl = WordNetLemmatizer()\n",
    "\n",
    "from nltk import word_tokenize, pos_tag\n",
    "\n",
    "nltk.download('averaged_perceptron_tagger')\n",
    "nltk.download('wordnet')\n",
    "\n",
    "def lemmatize_tag(text):\n",
    "    lemma=[]\n",
    "    for i,j in pos_tag(word_tokenize(text)) :\n",
    "        p=j[0].lower()\n",
    "        lm = ''\n",
    "        if p in ['j','n','v']:\n",
    "            if p == 'j':\n",
    "                p = 'a'\n",
    "            lm = wnl.lemmatize(i,p)\n",
    "            \n",
    "        else :\n",
    "            lm = wnl.lemmatize(i)\n",
    "        if len(lm) > 1:\n",
    "            lemma.append(lm)\n",
    "    return ' '.join(lemma)"
   ]
  },
  {
   "cell_type": "code",
   "execution_count": 11,
   "metadata": {
    "colab": {
     "base_uri": "https://localhost:8080/"
    },
    "id": "xENZQJfib3oF",
    "outputId": "acbf615b-fd2c-4fd7-8c66-2808ea1d68b6"
   },
   "outputs": [
    {
     "name": "stderr",
     "output_type": "stream",
     "text": [
      "[nltk_data] Downloading package omw-1.4 to /root/nltk_data...\n"
     ]
    },
    {
     "name": "stdout",
     "output_type": "stream",
     "text": [
      "BEFORE:        @VirginAmerica seriously would pay $30 a flight for seats that didn't have this playing.\n",
      "it's really the only bad thing about flying VA\n",
      "CLEAN:          seriously would pay flight seats playing really bad thing flying va\n",
      "CLEAN & LEMM:  seriously would pay flight seat play really bad thing fly va\n"
     ]
    }
   ],
   "source": [
    "import nltk\n",
    "nltk.download('omw-1.4')\n",
    "\n",
    "i = 5\n",
    "\n",
    "print(\"BEFORE:        \"+df['text'][i])\n",
    "print(\"CLEAN:         \"+clean_text(df['text'][i]))\n",
    "print(\"CLEAN & LEMM:  \"+lemmatize_tag(clean_text(df['text'][i])))"
   ]
  },
  {
   "cell_type": "code",
   "execution_count": 12,
   "metadata": {
    "colab": {
     "base_uri": "https://localhost:8080/",
     "height": 670
    },
    "execution": {
     "iopub.execute_input": "2022-01-06T07:19:30.276071Z",
     "iopub.status.busy": "2022-01-06T07:19:30.275754Z",
     "iopub.status.idle": "2022-01-06T07:19:32.796339Z",
     "shell.execute_reply": "2022-01-06T07:19:32.795646Z",
     "shell.execute_reply.started": "2022-01-06T07:19:30.276036Z"
    },
    "id": "pCPwwbAa56c3",
    "outputId": "3568a585-ae7f-47c6-dd58-dca121a7a438"
   },
   "outputs": [
    {
     "name": "stdout",
     "output_type": "stream",
     "text": [
      "(14640, 15)\n",
      "(11541, 15)\n"
     ]
    },
    {
     "name": "stderr",
     "output_type": "stream",
     "text": [
      "<ipython-input-12-a57e71de306b>:8: SettingWithCopyWarning: \n",
      "A value is trying to be set on a copy of a slice from a DataFrame.\n",
      "Try using .loc[row_indexer,col_indexer] = value instead\n",
      "\n",
      "See the caveats in the documentation: https://pandas.pydata.org/pandas-docs/stable/user_guide/indexing.html#returning-a-view-versus-a-copy\n",
      "  df['airline_sentiment'] = df['airline_sentiment'].apply(lambda x: 1 if x =='positive' else 0)\n"
     ]
    },
    {
     "name": "stdout",
     "output_type": "stream",
     "text": [
      "(11529, 16)\n"
     ]
    },
    {
     "data": {
      "text/html": [
       "\n",
       "  <div id=\"df-d4f7f9dc-7ed6-44fa-9446-33c921b3015c\">\n",
       "    <div class=\"colab-df-container\">\n",
       "      <div>\n",
       "<style scoped>\n",
       "    .dataframe tbody tr th:only-of-type {\n",
       "        vertical-align: middle;\n",
       "    }\n",
       "\n",
       "    .dataframe tbody tr th {\n",
       "        vertical-align: top;\n",
       "    }\n",
       "\n",
       "    .dataframe thead th {\n",
       "        text-align: right;\n",
       "    }\n",
       "</style>\n",
       "<table border=\"1\" class=\"dataframe\">\n",
       "  <thead>\n",
       "    <tr style=\"text-align: right;\">\n",
       "      <th></th>\n",
       "      <th>tweet_id</th>\n",
       "      <th>airline_sentiment</th>\n",
       "      <th>airline_sentiment_confidence</th>\n",
       "      <th>negativereason</th>\n",
       "      <th>negativereason_confidence</th>\n",
       "      <th>airline</th>\n",
       "      <th>airline_sentiment_gold</th>\n",
       "      <th>name</th>\n",
       "      <th>negativereason_gold</th>\n",
       "      <th>retweet_count</th>\n",
       "      <th>text</th>\n",
       "      <th>tweet_coord</th>\n",
       "      <th>tweet_created</th>\n",
       "      <th>tweet_location</th>\n",
       "      <th>user_timezone</th>\n",
       "      <th>cleaned_tweet</th>\n",
       "    </tr>\n",
       "  </thead>\n",
       "  <tbody>\n",
       "    <tr>\n",
       "      <th>1</th>\n",
       "      <td>570301130888122368</td>\n",
       "      <td>1</td>\n",
       "      <td>0.3486</td>\n",
       "      <td>NaN</td>\n",
       "      <td>0.0000</td>\n",
       "      <td>Virgin America</td>\n",
       "      <td>NaN</td>\n",
       "      <td>jnardino</td>\n",
       "      <td>NaN</td>\n",
       "      <td>0</td>\n",
       "      <td>@VirginAmerica plus you've added commercials t...</td>\n",
       "      <td>NaN</td>\n",
       "      <td>2015-02-24 11:15:59 -0800</td>\n",
       "      <td>NaN</td>\n",
       "      <td>Pacific Time (US &amp; Canada)</td>\n",
       "      <td>plus added commercial experience tacky</td>\n",
       "    </tr>\n",
       "    <tr>\n",
       "      <th>3</th>\n",
       "      <td>570301031407624196</td>\n",
       "      <td>0</td>\n",
       "      <td>1.0000</td>\n",
       "      <td>Bad Flight</td>\n",
       "      <td>0.7033</td>\n",
       "      <td>Virgin America</td>\n",
       "      <td>NaN</td>\n",
       "      <td>jnardino</td>\n",
       "      <td>NaN</td>\n",
       "      <td>0</td>\n",
       "      <td>@VirginAmerica it's really aggressive to blast...</td>\n",
       "      <td>NaN</td>\n",
       "      <td>2015-02-24 11:15:36 -0800</td>\n",
       "      <td>NaN</td>\n",
       "      <td>Pacific Time (US &amp; Canada)</td>\n",
       "      <td>really aggressive blast obnoxious entertainmen...</td>\n",
       "    </tr>\n",
       "    <tr>\n",
       "      <th>4</th>\n",
       "      <td>570300817074462722</td>\n",
       "      <td>0</td>\n",
       "      <td>1.0000</td>\n",
       "      <td>Can't Tell</td>\n",
       "      <td>1.0000</td>\n",
       "      <td>Virgin America</td>\n",
       "      <td>NaN</td>\n",
       "      <td>jnardino</td>\n",
       "      <td>NaN</td>\n",
       "      <td>0</td>\n",
       "      <td>@VirginAmerica and it's a really big bad thing...</td>\n",
       "      <td>NaN</td>\n",
       "      <td>2015-02-24 11:14:45 -0800</td>\n",
       "      <td>NaN</td>\n",
       "      <td>Pacific Time (US &amp; Canada)</td>\n",
       "      <td>really big bad thing</td>\n",
       "    </tr>\n",
       "    <tr>\n",
       "      <th>5</th>\n",
       "      <td>570300767074181121</td>\n",
       "      <td>0</td>\n",
       "      <td>1.0000</td>\n",
       "      <td>Can't Tell</td>\n",
       "      <td>0.6842</td>\n",
       "      <td>Virgin America</td>\n",
       "      <td>NaN</td>\n",
       "      <td>jnardino</td>\n",
       "      <td>NaN</td>\n",
       "      <td>0</td>\n",
       "      <td>@VirginAmerica seriously would pay $30 a fligh...</td>\n",
       "      <td>NaN</td>\n",
       "      <td>2015-02-24 11:14:33 -0800</td>\n",
       "      <td>NaN</td>\n",
       "      <td>Pacific Time (US &amp; Canada)</td>\n",
       "      <td>seriously would pay flight seat play really ba...</td>\n",
       "    </tr>\n",
       "    <tr>\n",
       "      <th>6</th>\n",
       "      <td>570300616901320704</td>\n",
       "      <td>1</td>\n",
       "      <td>0.6745</td>\n",
       "      <td>NaN</td>\n",
       "      <td>0.0000</td>\n",
       "      <td>Virgin America</td>\n",
       "      <td>NaN</td>\n",
       "      <td>cjmcginnis</td>\n",
       "      <td>NaN</td>\n",
       "      <td>0</td>\n",
       "      <td>@VirginAmerica yes, nearly every time I fly VX...</td>\n",
       "      <td>NaN</td>\n",
       "      <td>2015-02-24 11:13:57 -0800</td>\n",
       "      <td>San Francisco CA</td>\n",
       "      <td>Pacific Time (US &amp; Canada)</td>\n",
       "      <td>yes nearly every time fly vx ear worm go away</td>\n",
       "    </tr>\n",
       "  </tbody>\n",
       "</table>\n",
       "</div>\n",
       "      <button class=\"colab-df-convert\" onclick=\"convertToInteractive('df-d4f7f9dc-7ed6-44fa-9446-33c921b3015c')\"\n",
       "              title=\"Convert this dataframe to an interactive table.\"\n",
       "              style=\"display:none;\">\n",
       "        \n",
       "  <svg xmlns=\"http://www.w3.org/2000/svg\" height=\"24px\"viewBox=\"0 0 24 24\"\n",
       "       width=\"24px\">\n",
       "    <path d=\"M0 0h24v24H0V0z\" fill=\"none\"/>\n",
       "    <path d=\"M18.56 5.44l.94 2.06.94-2.06 2.06-.94-2.06-.94-.94-2.06-.94 2.06-2.06.94zm-11 1L8.5 8.5l.94-2.06 2.06-.94-2.06-.94L8.5 2.5l-.94 2.06-2.06.94zm10 10l.94 2.06.94-2.06 2.06-.94-2.06-.94-.94-2.06-.94 2.06-2.06.94z\"/><path d=\"M17.41 7.96l-1.37-1.37c-.4-.4-.92-.59-1.43-.59-.52 0-1.04.2-1.43.59L10.3 9.45l-7.72 7.72c-.78.78-.78 2.05 0 2.83L4 21.41c.39.39.9.59 1.41.59.51 0 1.02-.2 1.41-.59l7.78-7.78 2.81-2.81c.8-.78.8-2.07 0-2.86zM5.41 20L4 18.59l7.72-7.72 1.47 1.35L5.41 20z\"/>\n",
       "  </svg>\n",
       "      </button>\n",
       "      \n",
       "  <style>\n",
       "    .colab-df-container {\n",
       "      display:flex;\n",
       "      flex-wrap:wrap;\n",
       "      gap: 12px;\n",
       "    }\n",
       "\n",
       "    .colab-df-convert {\n",
       "      background-color: #E8F0FE;\n",
       "      border: none;\n",
       "      border-radius: 50%;\n",
       "      cursor: pointer;\n",
       "      display: none;\n",
       "      fill: #1967D2;\n",
       "      height: 32px;\n",
       "      padding: 0 0 0 0;\n",
       "      width: 32px;\n",
       "    }\n",
       "\n",
       "    .colab-df-convert:hover {\n",
       "      background-color: #E2EBFA;\n",
       "      box-shadow: 0px 1px 2px rgba(60, 64, 67, 0.3), 0px 1px 3px 1px rgba(60, 64, 67, 0.15);\n",
       "      fill: #174EA6;\n",
       "    }\n",
       "\n",
       "    [theme=dark] .colab-df-convert {\n",
       "      background-color: #3B4455;\n",
       "      fill: #D2E3FC;\n",
       "    }\n",
       "\n",
       "    [theme=dark] .colab-df-convert:hover {\n",
       "      background-color: #434B5C;\n",
       "      box-shadow: 0px 1px 3px 1px rgba(0, 0, 0, 0.15);\n",
       "      filter: drop-shadow(0px 1px 2px rgba(0, 0, 0, 0.3));\n",
       "      fill: #FFFFFF;\n",
       "    }\n",
       "  </style>\n",
       "\n",
       "      <script>\n",
       "        const buttonEl =\n",
       "          document.querySelector('#df-d4f7f9dc-7ed6-44fa-9446-33c921b3015c button.colab-df-convert');\n",
       "        buttonEl.style.display =\n",
       "          google.colab.kernel.accessAllowed ? 'block' : 'none';\n",
       "\n",
       "        async function convertToInteractive(key) {\n",
       "          const element = document.querySelector('#df-d4f7f9dc-7ed6-44fa-9446-33c921b3015c');\n",
       "          const dataTable =\n",
       "            await google.colab.kernel.invokeFunction('convertToInteractive',\n",
       "                                                     [key], {});\n",
       "          if (!dataTable) return;\n",
       "\n",
       "          const docLinkHtml = 'Like what you see? Visit the ' +\n",
       "            '<a target=\"_blank\" href=https://colab.research.google.com/notebooks/data_table.ipynb>data table notebook</a>'\n",
       "            + ' to learn more about interactive tables.';\n",
       "          element.innerHTML = '';\n",
       "          dataTable['output_type'] = 'display_data';\n",
       "          await google.colab.output.renderOutput(dataTable, element);\n",
       "          const docLink = document.createElement('div');\n",
       "          docLink.innerHTML = docLinkHtml;\n",
       "          element.appendChild(docLink);\n",
       "        }\n",
       "      </script>\n",
       "    </div>\n",
       "  </div>\n",
       "  "
      ],
      "text/plain": [
       "             tweet_id  airline_sentiment  airline_sentiment_confidence  \\\n",
       "1  570301130888122368                  1                        0.3486   \n",
       "3  570301031407624196                  0                        1.0000   \n",
       "4  570300817074462722                  0                        1.0000   \n",
       "5  570300767074181121                  0                        1.0000   \n",
       "6  570300616901320704                  1                        0.6745   \n",
       "\n",
       "  negativereason  negativereason_confidence         airline  \\\n",
       "1            NaN                     0.0000  Virgin America   \n",
       "3     Bad Flight                     0.7033  Virgin America   \n",
       "4     Can't Tell                     1.0000  Virgin America   \n",
       "5     Can't Tell                     0.6842  Virgin America   \n",
       "6            NaN                     0.0000  Virgin America   \n",
       "\n",
       "  airline_sentiment_gold        name negativereason_gold  retweet_count  \\\n",
       "1                    NaN    jnardino                 NaN              0   \n",
       "3                    NaN    jnardino                 NaN              0   \n",
       "4                    NaN    jnardino                 NaN              0   \n",
       "5                    NaN    jnardino                 NaN              0   \n",
       "6                    NaN  cjmcginnis                 NaN              0   \n",
       "\n",
       "                                                text tweet_coord  \\\n",
       "1  @VirginAmerica plus you've added commercials t...         NaN   \n",
       "3  @VirginAmerica it's really aggressive to blast...         NaN   \n",
       "4  @VirginAmerica and it's a really big bad thing...         NaN   \n",
       "5  @VirginAmerica seriously would pay $30 a fligh...         NaN   \n",
       "6  @VirginAmerica yes, nearly every time I fly VX...         NaN   \n",
       "\n",
       "               tweet_created    tweet_location               user_timezone  \\\n",
       "1  2015-02-24 11:15:59 -0800               NaN  Pacific Time (US & Canada)   \n",
       "3  2015-02-24 11:15:36 -0800               NaN  Pacific Time (US & Canada)   \n",
       "4  2015-02-24 11:14:45 -0800               NaN  Pacific Time (US & Canada)   \n",
       "5  2015-02-24 11:14:33 -0800               NaN  Pacific Time (US & Canada)   \n",
       "6  2015-02-24 11:13:57 -0800  San Francisco CA  Pacific Time (US & Canada)   \n",
       "\n",
       "                                       cleaned_tweet  \n",
       "1             plus added commercial experience tacky  \n",
       "3  really aggressive blast obnoxious entertainmen...  \n",
       "4                               really big bad thing  \n",
       "5  seriously would pay flight seat play really ba...  \n",
       "6      yes nearly every time fly vx ear worm go away  "
      ]
     },
     "execution_count": 12,
     "metadata": {},
     "output_type": "execute_result"
    }
   ],
   "source": [
    "print(df.shape)\n",
    "\n",
    "# removing neutral tweets\n",
    "df = df[df['airline_sentiment']!='neutral']\n",
    "print(df.shape)\n",
    "\n",
    "# positive negative codification\n",
    "df['airline_sentiment'] = df['airline_sentiment'].apply(lambda x: 1 if x =='positive' else 0)\n",
    "\n",
    "# removing neutral tweets\n",
    "df['cleaned_tweet'] = df['text'].apply(clean_text)\n",
    "df['cleaned_tweet'] = df['cleaned_tweet'].apply(lemmatize_tag)\n",
    "\n",
    "# remove rows with empty clean tweets\n",
    "df = df[df['cleaned_tweet'].apply(len)>0]\n",
    "\n",
    "print(df.shape)\n",
    "df.head()\n"
   ]
  },
  {
   "cell_type": "code",
   "execution_count": 13,
   "metadata": {
    "colab": {
     "base_uri": "https://localhost:8080/"
    },
    "execution": {
     "iopub.execute_input": "2022-01-06T07:19:55.618486Z",
     "iopub.status.busy": "2022-01-06T07:19:55.618017Z",
     "iopub.status.idle": "2022-01-06T07:19:55.625580Z",
     "shell.execute_reply": "2022-01-06T07:19:55.624831Z",
     "shell.execute_reply.started": "2022-01-06T07:19:55.618450Z"
    },
    "id": "qMSEE26K56c7",
    "outputId": "7495b6ad-e183-4305-fe4f-50f0f5cee0bb"
   },
   "outputs": [
    {
     "data": {
      "text/plain": [
       "array([1, 0])"
      ]
     },
     "execution_count": 13,
     "metadata": {},
     "output_type": "execute_result"
    }
   ],
   "source": [
    "df['airline_sentiment'].unique()"
   ]
  },
  {
   "cell_type": "markdown",
   "metadata": {
    "id": "qimFkoNh56c-"
   },
   "source": [
    "# Custom sentiment model"
   ]
  },
  {
   "cell_type": "code",
   "execution_count": 14,
   "metadata": {
    "id": "ol5lFRe_iCVv"
   },
   "outputs": [],
   "source": [
    "def check_scores(clf, X_train, X_test, y_train, y_test):\n",
    "\n",
    "    model=clf.fit(X_train, y_train)\n",
    "    predicted_class=model.predict(X_test)\n",
    "    predicted_class_train=model.predict(X_train)\n",
    "    test_probs = model.predict_proba(X_test)\n",
    "    test_probs = test_probs[:, 1]\n",
    "\n",
    "  print('Train confusion matrix is: ',)\n",
    "  print(confusion_matrix(y_train, predicted_class_train))\n",
    "\n",
    "  print()\n",
    "  print('Test confusion matrix is: ')\n",
    "  print(confusion_matrix(y_test, predicted_class))\n",
    "  print()\n",
    "  print(classification_report(y_test,predicted_class)) \n",
    "  print() \n",
    "  train_accuracy = accuracy_score(y_train,predicted_class_train)\n",
    "  test_accuracy = accuracy_score(y_test,predicted_class)\n",
    "\n",
    "  print()\n",
    "  print(\"Train f1: \", f1_score(y_train, predicted_class_train))\n",
    "  print(\"Test f1: \", f1_score(y_test, predicted_class))\n",
    "  print()\n",
    "  print(\"Train accuracy score: \", train_accuracy)\n",
    "  print(\"Test accuracy score: \",test_accuracy )\n",
    "  print()\n",
    "  train_auc = roc_auc_score(y_train, clf.predict_proba(X_train)[:,1])\n",
    "  test_auc = roc_auc_score(y_test, clf.predict_proba(X_test)[:,1])\n",
    "\n",
    "  print(\"Train ROC-AUC score: \", train_auc)\n",
    "  print(\"Test ROC-AUC score: \", test_auc)\n",
    "  \n",
    "  fig, ax1 = plt.subplots(1,1)\n",
    "\n",
    "  plt.subplots_adjust(left=0.5,\n",
    "                    bottom=0.1, \n",
    "                    right=1.5, \n",
    "                    top=0.9, \n",
    "                    wspace=0.4, \n",
    "                    hspace=0.4)\n",
    "  plt.plot([0, 1], [0, 1], color='darkblue', linestyle='--')\n",
    "  fpr, tpr, _ = roc_curve(y_test, test_probs)\n",
    "  ax1.plot(fpr, tpr)\n",
    "  ax1.set(xlabel='False Positive Rate', ylabel='True Positive Rate')\n",
    "\n",
    "  return train_accuracy, test_accuracy, train_auc, test_auc\n",
    "\n",
    "\n",
    "\n",
    "def grid_search(model, parameters, X_train, Y_train):\n",
    "  #Doing a grid\n",
    "  grid = GridSearchCV(estimator=model,\n",
    "                      param_grid = parameters,\n",
    "                      cv=3, scoring = 'f1', verbose=0, n_jobs=-1)\n",
    "  #Fitting the grid \n",
    "  grid.fit(X_train,Y_train)\n",
    "  # Best model found using grid search\n",
    "  optimal_model = grid.best_estimator_\n",
    "  print('Best parameters are: ')\n",
    "  print( grid.best_params_)\n",
    "\n",
    "  return optimal_model\n",
    "\n",
    "\n"
   ]
  },
  {
   "cell_type": "markdown",
   "metadata": {
    "id": "3PpYU_wJiPls"
   },
   "source": [
    "### SVM"
   ]
  },
  {
   "cell_type": "code",
   "execution_count": 15,
   "metadata": {
    "execution": {
     "iopub.execute_input": "2022-01-06T07:19:55.629518Z",
     "iopub.status.busy": "2022-01-06T07:19:55.629290Z",
     "iopub.status.idle": "2022-01-06T07:19:55.815056Z",
     "shell.execute_reply": "2022-01-06T07:19:55.814410Z",
     "shell.execute_reply.started": "2022-01-06T07:19:55.629494Z"
    },
    "id": "HzRAjKNo56dC"
   },
   "outputs": [],
   "source": [
    "# Creating object of TF-IDF vectorizer\n",
    "vectorizer = TfidfVectorizer()\n",
    "X_tf_idf= vectorizer.fit_transform(df.cleaned_tweet)\n",
    "x_train, x_test, y_train, y_test = train_test_split(X_tf_idf, df['airline_sentiment'], random_state=42)\n"
   ]
  },
  {
   "cell_type": "code",
   "execution_count": 16,
   "metadata": {
    "colab": {
     "base_uri": "https://localhost:8080/"
    },
    "execution": {
     "iopub.execute_input": "2022-01-06T07:20:38.255821Z",
     "iopub.status.busy": "2022-01-06T07:20:38.255355Z",
     "iopub.status.idle": "2022-01-06T07:24:43.964681Z",
     "shell.execute_reply": "2022-01-06T07:24:43.963913Z",
     "shell.execute_reply.started": "2022-01-06T07:20:38.255786Z"
    },
    "id": "s2gECdk-56dR",
    "outputId": "4e53ead1-6707-4734-a09d-e03982b12acf"
   },
   "outputs": [
    {
     "name": "stdout",
     "output_type": "stream",
     "text": [
      "Best parameters are: \n",
      "{'C': 3, 'kernel': 'linear'}\n"
     ]
    }
   ],
   "source": [
    "# Tuning the hyperparameters\n",
    "parameters ={\n",
    "    \"C\":[0.1,0.3,1,3,10],\n",
    "    \"kernel\":['linear']} \n",
    "\n",
    "svm_optimal = grid_search(svm.SVC(probability=True), parameters,x_train, y_train)"
   ]
  },
  {
   "cell_type": "code",
   "execution_count": 17,
   "metadata": {
    "colab": {
     "base_uri": "https://localhost:8080/",
     "height": 761
    },
    "execution": {
     "iopub.execute_input": "2022-01-06T07:24:43.966078Z",
     "iopub.status.busy": "2022-01-06T07:24:43.965825Z",
     "iopub.status.idle": "2022-01-06T07:25:36.927423Z",
     "shell.execute_reply": "2022-01-06T07:25:36.926768Z",
     "shell.execute_reply.started": "2022-01-06T07:24:43.966043Z"
    },
    "id": "dpj4ncBA56dU",
    "outputId": "bc3574f2-25c2-459f-f0cf-0cb83f3e98f4"
   },
   "outputs": [
    {
     "name": "stdout",
     "output_type": "stream",
     "text": [
      "Train confusion matrix is: \n",
      "[[6838   32]\n",
      " [  95 1681]]\n",
      "\n",
      "Test confusion matrix is: \n",
      "[[2214   85]\n",
      " [ 168  416]]\n",
      "\n",
      "              precision    recall  f1-score   support\n",
      "\n",
      "           0       0.93      0.96      0.95      2299\n",
      "           1       0.83      0.71      0.77       584\n",
      "\n",
      "    accuracy                           0.91      2883\n",
      "   macro avg       0.88      0.84      0.86      2883\n",
      "weighted avg       0.91      0.91      0.91      2883\n",
      "\n",
      "\n",
      "\n",
      "Train f1:  0.9635998853539697\n",
      "Test f1:  0.7668202764976959\n",
      "\n",
      "Train accuracy score:  0.9853111265325005\n",
      "Test accuracy score:  0.912244190079778\n",
      "\n",
      "Train ROC-AUC score:  0.9952435923915183\n",
      "Test ROC-AUC score:  0.9406215179917414\n"
     ]
    },
    {
     "data": {
      "image/png": "[encoded data removed]",
      "text/plain": [
       "<Figure size 432x288 with 1 Axes>"
      ]
     },
     "metadata": {
      "needs_background": "light"
     },
     "output_type": "display_data"
    }
   ],
   "source": [
    "so_train_accuracy, so_test_accuracy, so_train_auc, so_test_auc = check_scores(svm_optimal,x_train, x_test, y_train, y_test)"
   ]
  },
  {
   "cell_type": "markdown",
   "metadata": {
    "id": "tMPKkjxf56dX"
   },
   "source": [
    "### Using Multinomial Naive Bayes"
   ]
  },
  {
   "cell_type": "code",
   "execution_count": 18,
   "metadata": {
    "colab": {
     "base_uri": "https://localhost:8080/",
     "height": 761
    },
    "execution": {
     "iopub.execute_input": "2022-01-06T07:25:36.928908Z",
     "iopub.status.busy": "2022-01-06T07:25:36.928675Z",
     "iopub.status.idle": "2022-01-06T07:25:37.388852Z",
     "shell.execute_reply": "2022-01-06T07:25:37.388174Z",
     "shell.execute_reply.started": "2022-01-06T07:25:36.928876Z"
    },
    "id": "tlHJYcbZ56dZ",
    "outputId": "0dd3d7e1-2c70-45ed-8e6a-b50c6590bc05"
   },
   "outputs": [
    {
     "name": "stdout",
     "output_type": "stream",
     "text": [
      "Train confusion matrix is: \n",
      "[[6868    2]\n",
      " [1144  632]]\n",
      "\n",
      "Test confusion matrix is: \n",
      "[[2296    3]\n",
      " [ 455  129]]\n",
      "\n",
      "              precision    recall  f1-score   support\n",
      "\n",
      "           0       0.83      1.00      0.91      2299\n",
      "           1       0.98      0.22      0.36       584\n",
      "\n",
      "    accuracy                           0.84      2883\n",
      "   macro avg       0.91      0.61      0.63      2883\n",
      "weighted avg       0.86      0.84      0.80      2883\n",
      "\n",
      "\n",
      "\n",
      "Train f1:  0.5244813278008298\n",
      "Test f1:  0.36033519553072624\n",
      "\n",
      "Train accuracy score:  0.8674531575294934\n",
      "Test accuracy score:  0.8411377037807839\n",
      "\n",
      "Train ROC-AUC score:  0.964453427226353\n",
      "Test ROC-AUC score:  0.9221884738450907\n"
     ]
    },
    {
     "data": {
      "image/png": "[encoded data removed]",
      "text/plain": [
       "<Figure size 432x288 with 1 Axes>"
      ]
     },
     "metadata": {
      "needs_background": "light"
     },
     "output_type": "display_data"
    }
   ],
   "source": [
    "m_train_accuracy, m_test_accuracy, m_train_auc, m_test_auc = check_scores(MultinomialNB(),x_train, x_test, y_train, y_test)\n"
   ]
  },
  {
   "cell_type": "markdown",
   "metadata": {
    "id": "oWt_2iRi56df"
   },
   "source": [
    "### Adaboost"
   ]
  },
  {
   "cell_type": "code",
   "execution_count": 19,
   "metadata": {
    "colab": {
     "base_uri": "https://localhost:8080/"
    },
    "execution": {
     "iopub.execute_input": "2022-01-06T07:25:47.217357Z",
     "iopub.status.busy": "2022-01-06T07:25:47.217096Z",
     "iopub.status.idle": "2022-01-06T07:31:35.356287Z",
     "shell.execute_reply": "2022-01-06T07:31:35.355511Z",
     "shell.execute_reply.started": "2022-01-06T07:25:47.217328Z"
    },
    "id": "0wRSf8Md56dj",
    "outputId": "109924be-c810-404a-8d27-e5c5772da838"
   },
   "outputs": [
    {
     "name": "stdout",
     "output_type": "stream",
     "text": [
      "Best parameters are: \n",
      "{'learning_rate': 1.0, 'n_estimators': 200}\n"
     ]
    }
   ],
   "source": [
    "params = {'n_estimators': [100, 200, 500],\n",
    " 'learning_rate': [0.0001, 0.001, 0.01, 0.1, 1.0]}\n",
    "\n",
    "ada_optimal_model = grid_search(AdaBoostClassifier(), params,x_train, y_train)"
   ]
  },
  {
   "cell_type": "code",
   "execution_count": 20,
   "metadata": {
    "colab": {
     "base_uri": "https://localhost:8080/",
     "height": 761
    },
    "execution": {
     "iopub.execute_input": "2022-01-06T07:31:35.358260Z",
     "iopub.status.busy": "2022-01-06T07:31:35.357457Z",
     "iopub.status.idle": "2022-01-06T07:32:07.554842Z",
     "shell.execute_reply": "2022-01-06T07:32:07.554186Z",
     "shell.execute_reply.started": "2022-01-06T07:31:35.358218Z"
    },
    "id": "Cd4orTKJ56dm",
    "outputId": "ec900f8b-4acf-4cfd-be8e-5d8f852e7dec"
   },
   "outputs": [
    {
     "name": "stdout",
     "output_type": "stream",
     "text": [
      "Train confusion matrix is: \n",
      "[[6709  161]\n",
      " [ 496 1280]]\n",
      "\n",
      "Test confusion matrix is: \n",
      "[[2192  107]\n",
      " [ 232  352]]\n",
      "\n",
      "              precision    recall  f1-score   support\n",
      "\n",
      "           0       0.90      0.95      0.93      2299\n",
      "           1       0.77      0.60      0.67       584\n",
      "\n",
      "    accuracy                           0.88      2883\n",
      "   macro avg       0.84      0.78      0.80      2883\n",
      "weighted avg       0.88      0.88      0.88      2883\n",
      "\n",
      "\n",
      "\n",
      "Train f1:  0.7957724588125583\n",
      "Test f1:  0.6749760306807286\n",
      "\n",
      "Train accuracy score:  0.9240111034004164\n",
      "Test accuracy score:  0.882414151925078\n",
      "\n",
      "Train ROC-AUC score:  0.9689236316010332\n",
      "Test ROC-AUC score:  0.9011295858234969\n"
     ]
    },
    {
     "data": {
      "image/png": "[encoded data removed]",
      "text/plain": [
       "<Figure size 432x288 with 1 Axes>"
      ]
     },
     "metadata": {
      "needs_background": "light"
     },
     "output_type": "display_data"
    }
   ],
   "source": [
    "ao_train_accuracy, ao_test_accuracy, ao_train_auc, ao_test_auc=check_scores(ada_optimal_model,x_train,x_test, y_train, y_test)\n"
   ]
  },
  {
   "cell_type": "markdown",
   "metadata": {
    "id": "4YPKwQ6d56dq"
   },
   "source": [
    "### Random Forest"
   ]
  },
  {
   "cell_type": "code",
   "execution_count": 21,
   "metadata": {
    "colab": {
     "base_uri": "https://localhost:8080/",
     "height": 761
    },
    "execution": {
     "iopub.execute_input": "2022-01-06T07:32:09.344510Z",
     "iopub.status.busy": "2022-01-06T07:32:09.344047Z",
     "iopub.status.idle": "2022-01-06T07:32:36.268949Z",
     "shell.execute_reply": "2022-01-06T07:32:36.268210Z",
     "shell.execute_reply.started": "2022-01-06T07:32:09.344472Z"
    },
    "id": "7mR4jY1b56dr",
    "outputId": "0d7a3fd1-1af3-4e5b-f1fb-64cc5f8f8a92"
   },
   "outputs": [
    {
     "name": "stdout",
     "output_type": "stream",
     "text": [
      "Train confusion matrix is: \n",
      "[[6870    0]\n",
      " [ 293 1483]]\n",
      "\n",
      "Test confusion matrix is: \n",
      "[[2179  120]\n",
      " [ 227  357]]\n",
      "\n",
      "              precision    recall  f1-score   support\n",
      "\n",
      "           0       0.91      0.95      0.93      2299\n",
      "           1       0.75      0.61      0.67       584\n",
      "\n",
      "    accuracy                           0.88      2883\n",
      "   macro avg       0.83      0.78      0.80      2883\n",
      "weighted avg       0.87      0.88      0.87      2883\n",
      "\n",
      "\n",
      "\n",
      "Train f1:  0.910095121202823\n",
      "Test f1:  0.6729500471253533\n",
      "\n",
      "Train accuracy score:  0.9661114966458478\n",
      "Test accuracy score:  0.8796392646548734\n",
      "\n",
      "Train ROC-AUC score:  0.9967324311210773\n",
      "Test ROC-AUC score:  0.8923195463185305\n"
     ]
    },
    {
     "data": {
      "image/png": "[encoded data removed]",
      "text/plain": [
       "<Figure size 432x288 with 1 Axes>"
      ]
     },
     "metadata": {
      "needs_background": "light"
     },
     "output_type": "display_data"
    }
   ],
   "source": [
    "r_train_accuracy, r_test_accuracy, r_train_auc, r_test_auc= check_scores(RandomForestClassifier(random_state=0,max_features=0.3, max_depth=100).fit(x_train, y_train), x_train,x_test,y_train,y_test)\n"
   ]
  },
  {
   "cell_type": "markdown",
   "metadata": {
    "id": "RWNSDpKt56d0"
   },
   "source": [
    "Final Results"
   ]
  },
  {
   "cell_type": "code",
   "execution_count": 23,
   "metadata": {
    "colab": {
     "base_uri": "https://localhost:8080/",
     "height": 206
    },
    "execution": {
     "iopub.execute_input": "2022-01-06T07:33:04.897820Z",
     "iopub.status.busy": "2022-01-06T07:33:04.897499Z",
     "iopub.status.idle": "2022-01-06T07:33:04.914992Z",
     "shell.execute_reply": "2022-01-06T07:33:04.914291Z",
     "shell.execute_reply.started": "2022-01-06T07:33:04.897783Z"
    },
    "id": "FhJZp9Ka56d1",
    "outputId": "8496eda3-3e8f-4d28-aee1-b7695dce56b6"
   },
   "outputs": [
    {
     "data": {
      "text/html": [
       "\n",
       "  <div id=\"df-dcac845c-52cd-4310-8042-7c0716f96871\">\n",
       "    <div class=\"colab-df-container\">\n",
       "      <div>\n",
       "<style scoped>\n",
       "    .dataframe tbody tr th:only-of-type {\n",
       "        vertical-align: middle;\n",
       "    }\n",
       "\n",
       "    .dataframe tbody tr th {\n",
       "        vertical-align: top;\n",
       "    }\n",
       "\n",
       "    .dataframe thead th {\n",
       "        text-align: right;\n",
       "    }\n",
       "</style>\n",
       "<table border=\"1\" class=\"dataframe\">\n",
       "  <thead>\n",
       "    <tr style=\"text-align: right;\">\n",
       "      <th></th>\n",
       "      <th>Train Accuracy</th>\n",
       "      <th>Test Accuracy</th>\n",
       "      <th>Train AUC</th>\n",
       "      <th>Test AUC</th>\n",
       "    </tr>\n",
       "    <tr>\n",
       "      <th>Model Name</th>\n",
       "      <th></th>\n",
       "      <th></th>\n",
       "      <th></th>\n",
       "      <th></th>\n",
       "    </tr>\n",
       "  </thead>\n",
       "  <tbody>\n",
       "    <tr>\n",
       "      <th>SVM</th>\n",
       "      <td>0.985311</td>\n",
       "      <td>0.912244</td>\n",
       "      <td>0.995244</td>\n",
       "      <td>0.940622</td>\n",
       "    </tr>\n",
       "    <tr>\n",
       "      <th>MultinomialNB</th>\n",
       "      <td>0.867453</td>\n",
       "      <td>0.841138</td>\n",
       "      <td>0.964453</td>\n",
       "      <td>0.922188</td>\n",
       "    </tr>\n",
       "    <tr>\n",
       "      <th>Random Forest</th>\n",
       "      <td>0.966111</td>\n",
       "      <td>0.879639</td>\n",
       "      <td>0.996732</td>\n",
       "      <td>0.892320</td>\n",
       "    </tr>\n",
       "    <tr>\n",
       "      <th>AdaBoost</th>\n",
       "      <td>0.924011</td>\n",
       "      <td>0.882414</td>\n",
       "      <td>0.968924</td>\n",
       "      <td>0.901130</td>\n",
       "    </tr>\n",
       "  </tbody>\n",
       "</table>\n",
       "</div>\n",
       "      <button class=\"colab-df-convert\" onclick=\"convertToInteractive('df-dcac845c-52cd-4310-8042-7c0716f96871')\"\n",
       "              title=\"Convert this dataframe to an interactive table.\"\n",
       "              style=\"display:none;\">\n",
       "        \n",
       "  <svg xmlns=\"http://www.w3.org/2000/svg\" height=\"24px\"viewBox=\"0 0 24 24\"\n",
       "       width=\"24px\">\n",
       "    <path d=\"M0 0h24v24H0V0z\" fill=\"none\"/>\n",
       "    <path d=\"M18.56 5.44l.94 2.06.94-2.06 2.06-.94-2.06-.94-.94-2.06-.94 2.06-2.06.94zm-11 1L8.5 8.5l.94-2.06 2.06-.94-2.06-.94L8.5 2.5l-.94 2.06-2.06.94zm10 10l.94 2.06.94-2.06 2.06-.94-2.06-.94-.94-2.06-.94 2.06-2.06.94z\"/><path d=\"M17.41 7.96l-1.37-1.37c-.4-.4-.92-.59-1.43-.59-.52 0-1.04.2-1.43.59L10.3 9.45l-7.72 7.72c-.78.78-.78 2.05 0 2.83L4 21.41c.39.39.9.59 1.41.59.51 0 1.02-.2 1.41-.59l7.78-7.78 2.81-2.81c.8-.78.8-2.07 0-2.86zM5.41 20L4 18.59l7.72-7.72 1.47 1.35L5.41 20z\"/>\n",
       "  </svg>\n",
       "      </button>\n",
       "      \n",
       "  <style>\n",
       "    .colab-df-container {\n",
       "      display:flex;\n",
       "      flex-wrap:wrap;\n",
       "      gap: 12px;\n",
       "    }\n",
       "\n",
       "    .colab-df-convert {\n",
       "      background-color: #E8F0FE;\n",
       "      border: none;\n",
       "      border-radius: 50%;\n",
       "      cursor: pointer;\n",
       "      display: none;\n",
       "      fill: #1967D2;\n",
       "      height: 32px;\n",
       "      padding: 0 0 0 0;\n",
       "      width: 32px;\n",
       "    }\n",
       "\n",
       "    .colab-df-convert:hover {\n",
       "      background-color: #E2EBFA;\n",
       "      box-shadow: 0px 1px 2px rgba(60, 64, 67, 0.3), 0px 1px 3px 1px rgba(60, 64, 67, 0.15);\n",
       "      fill: #174EA6;\n",
       "    }\n",
       "\n",
       "    [theme=dark] .colab-df-convert {\n",
       "      background-color: #3B4455;\n",
       "      fill: #D2E3FC;\n",
       "    }\n",
       "\n",
       "    [theme=dark] .colab-df-convert:hover {\n",
       "      background-color: #434B5C;\n",
       "      box-shadow: 0px 1px 3px 1px rgba(0, 0, 0, 0.15);\n",
       "      filter: drop-shadow(0px 1px 2px rgba(0, 0, 0, 0.3));\n",
       "      fill: #FFFFFF;\n",
       "    }\n",
       "  </style>\n",
       "\n",
       "      <script>\n",
       "        const buttonEl =\n",
       "          document.querySelector('#df-dcac845c-52cd-4310-8042-7c0716f96871 button.colab-df-convert');\n",
       "        buttonEl.style.display =\n",
       "          google.colab.kernel.accessAllowed ? 'block' : 'none';\n",
       "\n",
       "        async function convertToInteractive(key) {\n",
       "          const element = document.querySelector('#df-dcac845c-52cd-4310-8042-7c0716f96871');\n",
       "          const dataTable =\n",
       "            await google.colab.kernel.invokeFunction('convertToInteractive',\n",
       "                                                     [key], {});\n",
       "          if (!dataTable) return;\n",
       "\n",
       "          const docLinkHtml = 'Like what you see? Visit the ' +\n",
       "            '<a target=\"_blank\" href=https://colab.research.google.com/notebooks/data_table.ipynb>data table notebook</a>'\n",
       "            + ' to learn more about interactive tables.';\n",
       "          element.innerHTML = '';\n",
       "          dataTable['output_type'] = 'display_data';\n",
       "          await google.colab.output.renderOutput(dataTable, element);\n",
       "          const docLink = document.createElement('div');\n",
       "          docLink.innerHTML = docLinkHtml;\n",
       "          element.appendChild(docLink);\n",
       "        }\n",
       "      </script>\n",
       "    </div>\n",
       "  </div>\n",
       "  "
      ],
      "text/plain": [
       "               Train Accuracy  Test Accuracy  Train AUC  Test AUC\n",
       "Model Name                                                       \n",
       "SVM                  0.985311       0.912244   0.995244  0.940622\n",
       "MultinomialNB        0.867453       0.841138   0.964453  0.922188\n",
       "Random Forest        0.966111       0.879639   0.996732  0.892320\n",
       "AdaBoost             0.924011       0.882414   0.968924  0.901130"
      ]
     },
     "execution_count": 23,
     "metadata": {},
     "output_type": "execute_result"
    }
   ],
   "source": [
    "data = [('SVM', so_train_accuracy, so_test_accuracy, so_train_auc, so_test_auc),\n",
    "('MultinomialNB',m_train_accuracy, m_test_accuracy, m_train_auc, m_test_auc  ),\n",
    "('Random Forest', r_train_accuracy, r_test_accuracy, r_train_auc, r_test_auc),\n",
    "('AdaBoost',ao_train_accuracy, ao_test_accuracy, ao_train_auc, ao_test_auc)]\n",
    "\n",
    "Scores_ = pd.DataFrame(data = data, columns=['Model Name','Train Accuracy', 'Test Accuracy', 'Train AUC', 'Test AUC'])\n",
    "Scores_.set_index('Model Name', inplace = True)\n",
    "\n",
    "Scores_"
   ]
  },
  {
   "cell_type": "markdown",
   "metadata": {
    "id": "v5wu_4AQQcj2"
   },
   "source": [
    "# Topic modeling\n",
    "Why do people have a bad sentiment?"
   ]
  },
  {
   "cell_type": "code",
   "execution_count": 24,
   "metadata": {
    "colab": {
     "base_uri": "https://localhost:8080/"
    },
    "id": "DVyKpOfoQjU0",
    "outputId": "4c2ce55c-6961-4d58-8e63-27ce0eb2e688"
   },
   "outputs": [
    {
     "data": {
      "text/plain": [
       "(9169, 16)"
      ]
     },
     "execution_count": 24,
     "metadata": {},
     "output_type": "execute_result"
    }
   ],
   "source": [
    "df_neg = df[df['airline_sentiment']==0]\n",
    "df_neg.shape"
   ]
  },
  {
   "cell_type": "code",
   "execution_count": 25,
   "metadata": {
    "id": "M1DpN08kQwzN"
   },
   "outputs": [],
   "source": [
    "from gensim import corpora\n",
    "from gensim.models import LdaModel\n",
    "from gensim.models import LsiModel\n",
    "from gensim.models import TfidfModel\n",
    "from sklearn.feature_extraction.text import CountVectorizer\n",
    "from sklearn.feature_extraction.text import TfidfVectorizer\n",
    "\n",
    "from gensim import matutils, models\n",
    "from gensim.corpora import Dictionary\n",
    "import scipy.sparse\n",
    "\n",
    "def prepare_corpus(doc_clean):\n",
    "  # Creating the term dictionary of our courpus, where every unique term is assigned an index. dictionary = corpora.Dictionary(doc_clean)\n",
    "  #dictionary = corpora.Dictionary(doc_clean)\n",
    "  # Converting list of documents (corpus) into Document Term Matrix using dictionary prepared above.\n",
    "  #corpus = [dictionary.doc2bow(doc) for doc in doc_clean]\n",
    "  #tfidf = TfidfModel(corpus) ##ngram_range=(1,1),min_df=3\n",
    "  #corpus_tfidf = tfidf[corpus]\n",
    "\n",
    "    cv = TfidfVectorizer(stop_words=stop_words, ngram_range=(1,1), min_df=3)\n",
    "    data_cv = cv.fit_transform(df_neg.cleaned_tweet)\n",
    "    data = pd.DataFrame(data_cv.toarray(), columns=cv.get_feature_names_out())\n",
    "    data.index = df_neg.index\n",
    "    tdm = data.transpose()\n",
    "    sparse_counts = scipy.sparse.csr_matrix(tdm)\n",
    "    corpus = matutils.Sparse2Corpus(sparse_counts)\n",
    "\n",
    "    #d = corpora.Dictionary()\n",
    "    id2word = dict((v, k) for k, v in cv.vocabulary_.items())\n",
    "    #d.id2token = dict((v, k) for k, v in cv.vocabulary_.items())\n",
    "    #d.id2token = id2word\n",
    "\n",
    "    gensim_dict = Dictionary.from_corpus(corpus, id2word=id2word)\n",
    "\n",
    "    return gensim_dict,corpus"
   ]
  },
  {
   "cell_type": "code",
   "execution_count": 26,
   "metadata": {
    "colab": {
     "base_uri": "https://localhost:8080/"
    },
    "id": "bt3ywLEUeI2A",
    "outputId": "da9aa4db-5536-4b94-b1e1-1f116e6531ce"
   },
   "outputs": [
    {
     "name": "stdout",
     "output_type": "stream",
     "text": [
      "really aggressive blast obnoxious entertainment guest face little recourse\n",
      "[(52, 0.4093206587489333), (249, 0.3988670588001145), (751, 0.3339233641376385), (818, 0.3388591853818621), (1014, 0.3988670588001145), (1321, 0.2959337381018054), (1828, 0.21910119420585708), (1845, 0.3903258457310167)]\n",
      "2591\n"
     ]
    }
   ],
   "source": [
    "from sklearn.feature_extraction.text import CountVectorizer\n",
    "\n",
    "print(df_neg['cleaned_tweet'].iloc[0])\n",
    "dictionary, corpus = prepare_corpus(df_neg.cleaned_tweet.apply(word_tokenize))\n",
    "print(corpus[0])\n",
    "print(len(dictionary))\n"
   ]
  },
  {
   "cell_type": "code",
   "execution_count": 27,
   "metadata": {
    "id": "PiVtTQkcRbWr"
   },
   "outputs": [],
   "source": [
    "from gensim.models.coherencemodel import CoherenceModel\n",
    "\n",
    "def compute_coherence_values(dictionary, corpus, doc_clean, stop, start=2, step=3):\n",
    "    \"\"\"\n",
    "    Input   : dictionary : Gensim dictionary\n",
    "              corpus : Gensim corpus\n",
    "              texts : List of input texts\n",
    "              stop : Max num of topics\n",
    "    purpose : Compute c_v coherence for various number of topics\n",
    "    Output  : model_list : List of LDA topic models\n",
    "              c_v : Coherence values corresponding to the LDA model with respective number of topics\n",
    "    \"\"\"\n",
    "    c_v = []\n",
    "    model_list = []\n",
    "    for num_topics in range(start, stop, step):\n",
    "        # generate model\n",
    "        model = LsiModel(corpus, num_topics=num_topics, id2word = dictionary)  # train model\n",
    "        model_list.append(model)\n",
    "        coherencemodel = CoherenceModel(model=model, texts=doc_clean, dictionary=dictionary, coherence='c_v')\n",
    "        c_v.append(coherencemodel.get_coherence())\n",
    "    return model_list, c_v"
   ]
  },
  {
   "cell_type": "code",
   "execution_count": 28,
   "metadata": {
    "colab": {
     "base_uri": "https://localhost:8080/",
     "height": 279
    },
    "id": "TDPm6Zw4ESmB",
    "outputId": "67d8b705-8884-479d-86dc-bd4ffa8de2cb"
   },
   "outputs": [
    {
     "data": {
      "image/png": "[encoded data removed]",
      "text/plain": [
       "<Figure size 432x288 with 1 Axes>"
      ]
     },
     "metadata": {
      "needs_background": "light"
     },
     "output_type": "display_data"
    }
   ],
   "source": [
    "def plot_graph(doc_clean, start, stop, step):\n",
    "    dictionary,corpus=prepare_corpus(doc_clean)\n",
    "    model_list,c_v = compute_coherence_values(dictionary, corpus, doc_clean,\n",
    "                                                            stop, start, step)\n",
    "  \n",
    "\n",
    "    # cv\n",
    "    x = range(start, stop, step)\n",
    "    fig = plt.plot(x, c_v, label = 'cv')\n",
    "    plt.xlabel(\"Number of Topics\")\n",
    "    plt.ylabel(\"Coherence score\")\n",
    "    plt.legend(('cv'), loc='best')\n",
    "    plt.xticks(ticks = x)\n",
    "    plt.show()\n",
    "    plt.close()\n",
    "\n",
    "    return model_list\n",
    "\n",
    "model_list = plot_graph(df_neg.cleaned_tweet.apply(word_tokenize),1,15,1)"
   ]
  },
  {
   "cell_type": "code",
   "execution_count": 29,
   "metadata": {
    "colab": {
     "base_uri": "https://localhost:8080/",
     "height": 736
    },
    "id": "M0KjgZ9cMFW2",
    "outputId": "16cca317-f02c-45ee-90f3-0efd25a328ce"
   },
   "outputs": [
    {
     "data": {
      "image/png": "[encoded data removed]",
      "text/plain": [
       "<Figure size 720x720 with 1 Axes>"
      ]
     },
     "metadata": {
      "needs_background": "light"
     },
     "output_type": "display_data"
    }
   ],
   "source": [
    "# Unique values of airline\n",
    "\n",
    "plt.figure(figsize=(10,10))\n",
    "ax = sns.countplot(x=\"negativereason\", data=df_neg)\n",
    "ax.tick_params(axis='x', rotation=90)"
   ]
  },
  {
   "cell_type": "code",
   "execution_count": 30,
   "metadata": {
    "colab": {
     "base_uri": "https://localhost:8080/"
    },
    "id": "7416nm3vGE9D",
    "outputId": "522190b9-0ddb-4c22-c843-6c025a3b6700"
   },
   "outputs": [
    {
     "data": {
      "text/plain": [
       "[(0,\n",
       "  '0.678*\"flight\" + 0.254*\"cancel\" + 0.161*\"delay\" + 0.157*\"hold\" + 0.138*\"help\" + 0.126*\"time\" + 0.124*\"call\" + 0.122*\"wait\" + 0.111*\"service\" + 0.109*\"customer\"'),\n",
       " (1,\n",
       "  '0.509*\"flight\" + -0.365*\"service\" + -0.364*\"customer\" + 0.255*\"cancel\" + -0.228*\"call\" + -0.163*\"wait\" + -0.159*\"hold\" + -0.116*\"bag\" + -0.114*\"time\" + -0.112*\"still\"'),\n",
       " (2,\n",
       "  '-0.463*\"customer\" + -0.459*\"service\" + 0.351*\"hold\" + 0.276*\"call\" + 0.190*\"wait\" + 0.173*\"help\" + -0.165*\"bad\" + 0.158*\"minute\" + -0.148*\"flight\" + -0.137*\"ever\"'),\n",
       " (3,\n",
       "  '-0.373*\"delay\" + 0.357*\"hold\" + -0.287*\"plane\" + 0.229*\"customer\" + 0.225*\"cancel\" + 0.218*\"service\" + -0.218*\"bag\" + 0.217*\"call\" + 0.185*\"help\" + -0.184*\"gate\"'),\n",
       " (4,\n",
       "  '0.453*\"hold\" + -0.343*\"call\" + 0.314*\"wait\" + 0.285*\"minute\" + 0.262*\"delay\" + 0.159*\"min\" + -0.147*\"back\" + -0.145*\"bag\" + 0.144*\"service\" + -0.130*\"day\"'),\n",
       " (5,\n",
       "  '-0.354*\"call\" + 0.314*\"hold\" + 0.292*\"bad\" + 0.274*\"airline\" + 0.273*\"fly\" + -0.249*\"wait\" + 0.219*\"help\" + 0.208*\"ever\" + 0.184*\"never\" + 0.181*\"time\"')]"
      ]
     },
     "execution_count": 30,
     "metadata": {},
     "output_type": "execute_result"
    }
   ],
   "source": [
    "ntopic = 6\n",
    "model = model_list[ntopic-1]\n",
    "model.show_topics()"
   ]
  },
  {
   "cell_type": "code",
   "execution_count": 31,
   "metadata": {
    "id": "I-eJiTjRLP44"
   },
   "outputs": [],
   "source": [
    "list_guess = ['Flight Cancelled',   # 0\n",
    "              'Flight Customer Service',   # 1\n",
    "              'CS booking',   # 2\n",
    "              'Flight Delay',   # 3\n",
    "              'CS booking',   # 4\n",
    "              'flight experience']   # 5]"
   ]
  },
  {
   "cell_type": "code",
   "execution_count": 32,
   "metadata": {
    "colab": {
     "base_uri": "https://localhost:8080/"
    },
    "id": "qcktSLBjQWOr",
    "outputId": "0cb2f8a0-601a-46cc-e75a-07416b3028b6"
   },
   "outputs": [
    {
     "name": "stdout",
     "output_type": "stream",
     "text": [
      "hold        6\n",
      "call        6\n",
      "wait        5\n",
      "service     5\n",
      "help        4\n",
      "customer    4\n",
      "flight      3\n",
      "delay       3\n",
      "time        3\n",
      "cancel      3\n",
      "dtype: int64\n",
      "\n",
      "\n"
     ]
    }
   ],
   "source": [
    "lst = []\n",
    "for topic in model.show_topics(formatted=False):\n",
    "    tuples = topic[1]\n",
    "    for tup in tuples:\n",
    "        lst.append(tup[0])\n",
    "\n",
    "counter=pd.DataFrame(lst).value_counts()\n",
    "print(counter.head(10))\n",
    "#plt.show()\n",
    "print('\\n')"
   ]
  },
  {
   "cell_type": "markdown",
   "metadata": {
    "id": "Xtxj7Vqt2zn2"
   },
   "source": [
    "### Find the most dominant topic in each document"
   ]
  },
  {
   "cell_type": "code",
   "execution_count": 33,
   "metadata": {
    "colab": {
     "base_uri": "https://localhost:8080/"
    },
    "id": "jh6yo8uD2yym",
    "outputId": "e7f083d0-db94-4cdf-f334-e6939261f8e3"
   },
   "outputs": [
    {
     "data": {
      "text/plain": [
       "9169"
      ]
     },
     "execution_count": 33,
     "metadata": {},
     "output_type": "execute_result"
    }
   ],
   "source": [
    "corpus_transformed = model[corpus]\n",
    "len(corpus_transformed)"
   ]
  },
  {
   "cell_type": "code",
   "execution_count": 34,
   "metadata": {
    "colab": {
     "base_uri": "https://localhost:8080/"
    },
    "id": "HC_aG7zq6iMZ",
    "outputId": "64671ebc-dd3a-42c6-bb95-1c72ffe1ae60"
   },
   "outputs": [
    {
     "data": {
      "text/plain": [
       "0.013391203095677602"
      ]
     },
     "execution_count": 34,
     "metadata": {},
     "output_type": "execute_result"
    }
   ],
   "source": [
    "j=list(corpus_transformed)[0]\n",
    "j[0][1]"
   ]
  },
  {
   "cell_type": "code",
   "execution_count": 35,
   "metadata": {
    "id": "OnXzkvf76FGa"
   },
   "outputs": [],
   "source": [
    "from pandas.core.common import not_none\n",
    "topic_prediction=[]\n",
    "for j in list(corpus_transformed):\n",
    "    if len(j) > 0:\n",
    "      main_topic=j[0][0]\n",
    "      weigth=np.abs(j[0][1])\n",
    "      for t,w in j:\n",
    "          if np.abs(w) > weigth :\n",
    "              main_topic=t\n",
    "              weigth=np.abs(w)\n",
    "    topic_prediction.append(main_topic)"
   ]
  },
  {
   "cell_type": "code",
   "execution_count": 36,
   "metadata": {
    "colab": {
     "base_uri": "https://localhost:8080/"
    },
    "id": "8cXMSkO39_QX",
    "outputId": "23898062-4330-4059-9863-bef5bfd63a66"
   },
   "outputs": [
    {
     "name": "stdout",
     "output_type": "stream",
     "text": [
      "['Bad Flight' \"Can't Tell\" 'Cancelled Flight' 'Customer Service Issue'\n",
      " 'Damaged Luggage' 'Flight Attendant Complaints' 'Flight Booking Problems'\n",
      " 'Late Flight' 'Lost Luggage' 'longlines']\n"
     ]
    }
   ],
   "source": [
    "from sklearn import preprocessing\n",
    "le = preprocessing.LabelEncoder()\n",
    "le.fit(list(df_neg.negativereason))\n",
    "\n",
    "print(le.classes_)\n",
    "\n",
    "enc_negativereason=le.transform(list(df_neg.negativereason))"
   ]
  },
  {
   "cell_type": "code",
   "execution_count": 37,
   "metadata": {
    "colab": {
     "base_uri": "https://localhost:8080/"
    },
    "id": "-crnLF4j-JpX",
    "outputId": "f095b705-962e-4a1e-862a-b65cb042ae55"
   },
   "outputs": [
    {
     "name": "stdout",
     "output_type": "stream",
     "text": [
      "[[0.07307079 0.0174472  0.01746032 0.10185934 0.04562738 0.07161458\n",
      "  0.         0.         0.         0.        ]\n",
      " [0.10175279 0.13131313 0.06031746 0.09135004 0.16825095 0.34895833\n",
      "  0.         0.         0.         0.        ]\n",
      " [0.1768723  0.00550964 0.01111111 0.0113177  0.01806084 0.03125\n",
      "  0.         0.         0.         0.        ]\n",
      " [0.22057819 0.61248852 0.7968254  0.08569119 0.43441065 0.26692708\n",
      "  0.         0.         0.         0.        ]\n",
      " [0.00500797 0.01101928 0.0015873  0.01535974 0.01235741 0.00911458\n",
      "  0.         0.         0.         0.        ]\n",
      " [0.05622581 0.04958678 0.02857143 0.07922393 0.02851711 0.04427083\n",
      "  0.         0.         0.         0.        ]\n",
      " [0.08103802 0.01652893 0.03015873 0.00808407 0.07604563 0.05989583\n",
      "  0.         0.         0.         0.        ]\n",
      " [0.2114728  0.04775023 0.03492063 0.39207761 0.07984791 0.11979167\n",
      "  0.         0.         0.         0.        ]\n",
      " [0.05895743 0.07621671 0.01428571 0.17542441 0.11977186 0.0390625\n",
      "  0.         0.         0.         0.        ]\n",
      " [0.0150239  0.03213958 0.0047619  0.03961196 0.01711027 0.00911458\n",
      "  0.         0.         0.         0.        ]]\n"
     ]
    }
   ],
   "source": [
    "from sklearn.metrics import confusion_matrix\n",
    "cm=confusion_matrix(enc_negativereason,topic_prediction,normalize='pred')\n",
    "print(cm)"
   ]
  },
  {
   "cell_type": "code",
   "execution_count": 44,
   "metadata": {
    "colab": {
     "base_uri": "https://localhost:8080/",
     "height": 622
    },
    "id": "ZHyiEoFZ-QtI",
    "outputId": "e439c888-847e-417d-9773-126b7e07ea60"
   },
   "outputs": [
    {
     "data": {
      "image/png": "[encoded data removed]",
      "text/plain": [
       "<Figure size 1080x576 with 2 Axes>"
      ]
     },
     "metadata": {
      "needs_background": "light"
     },
     "output_type": "display_data"
    }
   ],
   "source": [
    "plt.figure(figsize = (15,8))\n",
    "\n",
    "ax=sns.heatmap(cm, annot=True, fmt='g');  #annot=True to annotate cells, ftm='g' to disable scientific notation\n",
    "\n",
    "# labels, title and ticks\n",
    "ax.set_xlabel('Predicted labels');ax.set_ylabel('True labels'); \n",
    "ax.set_title('Confusion Matrix'); \n",
    "ax.yaxis.set_ticklabels(['Bad Flight', \"Can't Tell\", 'Cancelled Flight', 'Customer Service Issue',\n",
    " 'Damaged Luggage', 'Flight Attendant Complaints', 'Flight Booking Problems',\n",
    " 'Late Flight', 'Lost Luggage', 'longlines'])\n",
    "ax.tick_params(axis='y', rotation=0)\n",
    "ax.xaxis.set_ticklabels(list_guess+['','','',''])\n",
    "ax.tick_params(axis='x', rotation=90)\n",
    "plt.show()\n",
    "plt.close()\n",
    "#plt.set_xticklabels(ax.get_xticklabels(),rotation = 30)"
   ]
  },
  {
   "cell_type": "code",
   "execution_count": null,
   "metadata": {
    "id": "Fby74SIrMdp-"
   },
   "outputs": [],
   "source": []
  }
 ],
 "metadata": {
  "colab": {
   "provenance": []
  },
  "kernelspec": {
   "display_name": "Python 3",
   "language": "python",
   "name": "python3"
  },
  "language_info": {
   "codemirror_mode": {
    "name": "ipython",
    "version": 3
   },
   "file_extension": ".py",
   "mimetype": "text/x-python",
   "name": "python",
   "nbconvert_exporter": "python",
   "pygments_lexer": "ipython3",
   "version": "3.9.7"
  }
 },
 "nbformat": 4,
 "nbformat_minor": 1
}
